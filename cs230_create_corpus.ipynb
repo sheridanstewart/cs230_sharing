{
 "cells": [
  {
   "cell_type": "markdown",
   "metadata": {},
   "source": [
    "## Initial cleaning and preprocessing of corpus"
   ]
  },
  {
   "cell_type": "code",
   "execution_count": 1,
   "metadata": {},
   "outputs": [],
   "source": [
    "import contractions\n",
    "import csv\n",
    "import ftfy\n",
    "import matplotlib.pyplot as plt\n",
    "import multiprocessing as mp\n",
    "import numpy as np\n",
    "import pandas as pd\n",
    "import pickle\n",
    "import re\n",
    "from collections import Counter, defaultdict\n",
    "from unidecode import unidecode\n",
    "\n",
    "%matplotlib inline"
   ]
  },
  {
   "cell_type": "code",
   "execution_count": 2,
   "metadata": {},
   "outputs": [],
   "source": [
    "def init_reader(infile):\n",
    "    \"\"\"initialize csvreader to stream corpus\"\"\"\n",
    "    csvfile = open(infile, \"r\")\n",
    "    csvreader = csv.DictReader(csvfile, delimiter=\"\\t\", quotechar='\"')\n",
    "    return csvreader\n",
    "\n",
    "\n",
    "def clean_batch(batch):\n",
    "    \"\"\"minimal preprocessing on a batch of documents\"\"\"\n",
    "    init_len = len(batch)\n",
    "    occupations, ratings, text = zip(*batch)\n",
    "    text = [\" \".join(t) for t in text]\n",
    "    text = \" <NEWREVIEW> \".join(text)\n",
    "    text = ftfy.fix_encoding(text)\n",
    "    text = unidecode(text)\n",
    "    text = contractions.fix(text)\n",
    "    text = re.sub(\"\\+\", \" \", text)\n",
    "    text = text.split(\"<NEWREVIEW>\")\n",
    "    assert len(text) == len(ratings) == len(occupations) == init_len\n",
    "    batch = list(zip(occupations, ratings, text))\n",
    "    assert len(batch) == init_len\n",
    "    return batch\n",
    "\n",
    "\n",
    "def make_batches(corpus, batch_size):\n",
    "    \"\"\"divide corpus in batches of batch_size\"\"\"\n",
    "    remainder = len(corpus) % batch_size\n",
    "    num_batches = int((len(corpus)-remainder)/batch_size)\n",
    "    batches = []\n",
    "    for i in range(num_batches):\n",
    "        begin = i*batch_size\n",
    "        end = begin + batch_size\n",
    "        batches += [corpus[begin:end]]\n",
    "    if remainder > 0:\n",
    "        batches += [corpus[-remainder:]]\n",
    "    return batches"
   ]
  },
  {
   "cell_type": "markdown",
   "metadata": {},
   "source": [
    " ## Set thresholds and file paths"
   ]
  },
  {
   "cell_type": "code",
   "execution_count": 3,
   "metadata": {},
   "outputs": [],
   "source": [
    "infile = \"reviews_no_duplicates.csv\""
   ]
  },
  {
   "cell_type": "code",
   "execution_count": 4,
   "metadata": {},
   "outputs": [],
   "source": [
    "minimum_words = 10\n",
    "minimum_documents_ratings = 500"
   ]
  },
  {
   "cell_type": "markdown",
   "metadata": {},
   "source": [
    "## Initial pass through the data to begin weeding out underrepresented occupations"
   ]
  },
  {
   "cell_type": "code",
   "execution_count": 5,
   "metadata": {},
   "outputs": [],
   "source": [
    "# there won't be enough data for every occupation; an initial pass to exclude\n",
    "\n",
    "occ_rating_counts = defaultdict(lambda: defaultdict(lambda: 0))\n",
    "\n",
    "occ_wc_c = defaultdict(lambda: {\"total_words\":0, \"total_reviews\":0})\n",
    "\n",
    "reader = init_reader(infile)\n",
    "\n",
    "for doc in reader:\n",
    "    has_occ = len(doc[\"MGOC\"].split()) > 0\n",
    "    pros_len = len(doc[\"pros\"].split()) >= minimum_words/2\n",
    "    cons_len = len(doc[\"cons\"].split()) >= minimum_words/2\n",
    "    has_rating = doc[\"OverallRating\"] != \"\"\n",
    "    if not any(requirement == False for requirement in [has_occ, pros_len, cons_len, has_rating]):\n",
    "        occ = doc[\"MGOC\"]\n",
    "        rating = doc[\"OverallRating\"]\n",
    "        occ_rating_counts[occ][rating] += 1\n",
    "        occ_wc_c[occ][\"total_reviews\"] += 1\n",
    "        text = doc[\"text\"].split()\n",
    "        occ_wc_c[occ][\"total_words\"] += len(text)"
   ]
  },
  {
   "cell_type": "code",
   "execution_count": 6,
   "metadata": {},
   "outputs": [
    {
     "name": "stdout",
     "output_type": "stream",
     "text": [
      "Number of reviews per star rating for a sample occupation:\n",
      "event coordinator :  {'1.0': 785, '4.0': 1516, '3.0': 1074, '2.0': 675, '5.0': 1942}\n"
     ]
    }
   ],
   "source": [
    "# just a sample occupation and the distribution of its reviews over the 1- to 5-star rating categories\n",
    "\n",
    "test_occ = np.random.choice(list(occ_rating_counts.keys()))\n",
    "\n",
    "print(\"Number of reviews per star rating for a sample occupation:\")\n",
    "print(test_occ, \": \", dict(occ_rating_counts[test_occ]))"
   ]
  },
  {
   "cell_type": "code",
   "execution_count": 7,
   "metadata": {},
   "outputs": [
    {
     "name": "stdout",
     "output_type": "stream",
     "text": [
      "Total number of useable occupations: 158\n",
      "Lowest number of reviews for any occupation: 722\n",
      "Highest number of reviews for any occupation: 238903\n",
      "\n",
      "Distribution of occupations:\n"
     ]
    },
    {
     "data": {
      "image/png": "[encoded data removed]",
      "text/plain": [
       "<Figure size 432x288 with 1 Axes>"
      ]
     },
     "metadata": {
      "needs_background": "light"
     },
     "output_type": "display_data"
    }
   ],
   "source": [
    "# number useable occupations, max/min, distribution\n",
    "\n",
    "occ_counts = [sum([count for rating, count in occ.items()]) for occ in occ_rating_counts.values()]\n",
    "\n",
    "print(\"Total number of useable occupations: {}\".format(len(occ_rating_counts.keys())))\n",
    "\n",
    "print(\"Lowest number of reviews for any occupation: {}\".format(min(occ_counts)))\n",
    "print(\"Highest number of reviews for any occupation: {}\".format(max(occ_counts)))\n",
    "\n",
    "print()\n",
    "print(\"Distribution of occupations:\")\n",
    "\n",
    "plt.hist(occ_counts)\n",
    "plt.show()"
   ]
  },
  {
   "cell_type": "code",
   "execution_count": 8,
   "metadata": {},
   "outputs": [
    {
     "data": {
      "image/png": "[encoded data removed]",
      "text/plain": [
       "<Figure size 432x288 with 1 Axes>"
      ]
     },
     "metadata": {
      "needs_background": "light"
     },
     "output_type": "display_data"
    }
   ],
   "source": [
    "# wordcounts X number of reviews--outliers?\n",
    "\n",
    "wordcounts = []\n",
    "num_reviews = []\n",
    "\n",
    "for key, value in occ_wc_c.items():\n",
    "    wordcounts.append(value[\"total_words\"])\n",
    "    num_reviews.append(value[\"total_reviews\"])\n",
    "    \n",
    "plt.title(\"Word counts X number of reviews per occupation\")\n",
    "plt.xlabel(\"Number of reviews\")\n",
    "plt.ylabel(\"Word count\")\n",
    "plt.scatter(num_reviews, wordcounts)\n",
    "plt.show()"
   ]
  },
  {
   "cell_type": "code",
   "execution_count": 9,
   "metadata": {},
   "outputs": [
    {
     "data": {
      "image/png": "[encoded data removed]",
      "text/plain": [
       "<Figure size 432x288 with 1 Axes>"
      ]
     },
     "metadata": {
      "needs_background": "light"
     },
     "output_type": "display_data"
    }
   ],
   "source": [
    "# average wordcount X number of reviews--outliers?\n",
    "\n",
    "avg_wordcounts = []\n",
    "num_reviews = []\n",
    "\n",
    "for key, value in occ_wc_c.items():\n",
    "    reviews = value[\"total_reviews\"]\n",
    "    num_reviews.append(reviews)\n",
    "    avg_words = value[\"total_words\"]/reviews\n",
    "    avg_wordcounts.append(avg_words)\n",
    "    \n",
    "plt.title(\"Average word counts X number of reviews per occupation\")\n",
    "plt.xlabel(\"Number of reviews\")\n",
    "plt.ylabel(\"Average word count\")\n",
    "plt.scatter(num_reviews, avg_wordcounts)\n",
    "plt.show()"
   ]
  },
  {
   "cell_type": "code",
   "execution_count": 10,
   "metadata": {},
   "outputs": [
    {
     "data": {
      "image/png": "[encoded data removed]",
      "text/plain": [
       "<Figure size 432x288 with 1 Axes>"
      ]
     },
     "metadata": {
      "needs_background": "light"
     },
     "output_type": "display_data"
    }
   ],
   "source": [
    "plt.title(\"Distribution of average word counts per occupation\")\n",
    "plt.hist(avg_wordcounts)\n",
    "plt.ylabel(\"Avg. word count\")\n",
    "plt.show()"
   ]
  },
  {
   "cell_type": "code",
   "execution_count": 11,
   "metadata": {},
   "outputs": [],
   "source": [
    "# Filter out occupations with fewer than minimum_document_ratings documents in any of the five ratings categories\n",
    "\n",
    "occs = [key for key, value in occ_rating_counts.items() if not any(count < minimum_documents_ratings for count in value.values())]"
   ]
  },
  {
   "cell_type": "code",
   "execution_count": 12,
   "metadata": {},
   "outputs": [
    {
     "name": "stdout",
     "output_type": "stream",
     "text": [
      "Total number of occupations meeting criteria: 112\n",
      "Lowest number of reviews for any occupation meeting initial criteria: 3302\n",
      "Highest number of reviews for any occupation meeting initial critera: 238903\n",
      "\n",
      "Distribution of occupations meeting initial criteria:\n"
     ]
    },
    {
     "data": {
      "image/png": "[encoded data removed]",
      "text/plain": [
       "<Figure size 432x288 with 1 Axes>"
      ]
     },
     "metadata": {
      "needs_background": "light"
     },
     "output_type": "display_data"
    }
   ],
   "source": [
    "# Sum the total number of documents for each remaining occupation to see distribution\n",
    "counts = [sum(value.values()) for key, value in occ_rating_counts.items() if key in occs]\n",
    "\n",
    "print(\"Total number of occupations meeting criteria: {}\".format(len(occs)))\n",
    "\n",
    "print(\"Lowest number of reviews for any occupation meeting initial criteria: {}\".format(min(counts)))\n",
    "print(\"Highest number of reviews for any occupation meeting initial critera: {}\".format(max(counts)))\n",
    "\n",
    "print()\n",
    "print(\"Distribution of occupations meeting initial criteria:\")\n",
    "plt.hist(counts)\n",
    "plt.show()"
   ]
  },
  {
   "cell_type": "code",
   "execution_count": 13,
   "metadata": {},
   "outputs": [
    {
     "name": "stdout",
     "output_type": "stream",
     "text": [
      "10 Occupations with the most reviews that meet the initial criteria: \n",
      "\n",
      "Branch manager: 238903\n",
      "Sales representative: 231473\n",
      "Retail representative: 110772\n",
      "Software engineer: 99535\n",
      "Customer service: 99010\n",
      "Teacher: 67625\n",
      "Marketing manager: 61347\n",
      "Engineer: 59089\n",
      "Project manager: 49087\n",
      "Store manager: 48775\n",
      "Analyst: 48754\n",
      "Server: 47476\n",
      "Student: 44117\n",
      "Other: 42784\n",
      "Administrative: 42531\n",
      "Management consulting: 42481\n",
      "Corporate account manager: 39753\n",
      "Nursing: 39640\n",
      "Operations: 39440\n",
      "Unskilled labor: 35798\n"
     ]
    }
   ],
   "source": [
    "# branch manager and sales representative are not only the largest groups, but also the most verbose--definite outliers\n",
    "\n",
    "occ_tups = [(key, sum(value.values())) for key, value in occ_rating_counts.items() if key in occs]\n",
    "occ_tups = sorted(occ_tups, key=lambda x: x[1], reverse=True)\n",
    "\n",
    "print(\"10 Occupations with the most reviews that meet the initial criteria:\", \"\\n\")\n",
    "\n",
    "for t in occ_tups[:20]:\n",
    "    occ, count = t\n",
    "    print(\"{}: {}\".format(occ.capitalize(), count))"
   ]
  },
  {
   "cell_type": "markdown",
   "metadata": {},
   "source": [
    "## Tradeoffs between minimum number of reviews/occupation, number of occupations retained in the corpus, and the total number of documents retained in the corpus"
   ]
  },
  {
   "cell_type": "code",
   "execution_count": 14,
   "metadata": {},
   "outputs": [
    {
     "name": "stdout",
     "output_type": "stream",
     "text": [
      "\n"
     ]
    },
    {
     "data": {
      "image/png": "[encoded data removed]",
      "text/plain": [
       "<Figure size 432x288 with 1 Axes>"
      ]
     },
     "metadata": {
      "needs_background": "light"
     },
     "output_type": "display_data"
    },
    {
     "name": "stdout",
     "output_type": "stream",
     "text": [
      "Tradeoffs for thresholds in range [100,5000]\n",
      "\n",
      "Solution 1:\n",
      "\n",
      "\tThreshold: 2071\n",
      "\tOccupations: 50\n",
      "\tDocuments in corpus 517750\n",
      "\tMinimum docs/occupation: 10355\n",
      "\n",
      "\n",
      "Solution 2:\n",
      "\n",
      "\tThreshold: 2070\n",
      "\tOccupations: 50\n",
      "\tDocuments in corpus 517500\n",
      "\tMinimum docs/occupation: 10350\n",
      "\n",
      "\n",
      "Solution 3:\n",
      "\n",
      "\tThreshold: 2069\n",
      "\tOccupations: 50\n",
      "\tDocuments in corpus 517250\n",
      "\tMinimum docs/occupation: 10345\n",
      "\n",
      "\n",
      "Solution 4:\n",
      "\n",
      "\tThreshold: 2068\n",
      "\tOccupations: 50\n",
      "\tDocuments in corpus 517000\n",
      "\tMinimum docs/occupation: 10340\n",
      "\n",
      "\n",
      "Solution 5:\n",
      "\n",
      "\tThreshold: 2067\n",
      "\tOccupations: 50\n",
      "\tDocuments in corpus 516750\n",
      "\tMinimum docs/occupation: 10335\n",
      "\n",
      "\n"
     ]
    }
   ],
   "source": [
    "# for each occupation in the final corpus, I want there to be a minimum of N documents for each *rating*\n",
    "# (e.g., N 1-star reviews from software engineers, N 2-star reviews from software engineers, and so on)\n",
    "\n",
    "min_document_ratings_test = 100\n",
    "max_document_ratings_test = 5000\n",
    "\n",
    "deviation = 1.2 # allow occupations to exceed minimum by a factor of this value to increase corpus size\n",
    "                # e.g., if the minimum contribution to the corpus from an occupation is 100, others may contribute\n",
    "                # up to 100*deviation documents, risking overrepresenting some occupations but increasing the \n",
    "                # corpus size\n",
    "\n",
    "results = []\n",
    "total_docs = []\n",
    "total_occs = []\n",
    "\n",
    "for i in range(min_document_ratings_test, max_document_ratings_test+1):\n",
    "    to_keep = []\n",
    "    removed = []\n",
    "    total = 0\n",
    "    limit = deviation*i\n",
    "    min_count = 5*i\n",
    "    for occ, ratings_dict in occ_rating_counts.items():\n",
    "        keep = False\n",
    "        ratings = np.array(list(ratings_dict.values()))\n",
    "        if min_count <= sum(ratings_dict.values()):\n",
    "            if not any(ratings < i):\n",
    "                to_keep.append(occ)\n",
    "                ratings_dev = []\n",
    "                for num in ratings:\n",
    "                    dev = deviation\n",
    "                    count = dev*num\n",
    "                    while count >= limit:\n",
    "                        dev -= 0.05\n",
    "                        count = dev*num\n",
    "                    total += int(max(count, i))\n",
    "                keep = True\n",
    "        if not keep:\n",
    "            removed.append(occ)\n",
    "    total_docs.append(total)\n",
    "    total_occs.append(len(to_keep))\n",
    "    iter_results = [len(to_keep), min_count, min_count*len(to_keep), total, i]\n",
    "    results.append(iter_results)\n",
    "\n",
    "results = sorted(results, key=lambda x: x[2], reverse=True)\n",
    "\n",
    "thresholds, doc_counts = zip(*list(enumerate(total_docs, start=min_document_ratings_test)))\n",
    "\n",
    "print()\n",
    "\n",
    "plt.plot(thresholds, doc_counts)\n",
    "plt.title(\"Tradeoff between corpus size and minimum documents per rating per occupation\\n\\n\")\n",
    "plt.xlabel(\"Threshold\")\n",
    "plt.ylabel(\"Documents in Corpus\")\n",
    "plt.show()\n",
    "\n",
    "print(\"Tradeoffs for thresholds in range [{},{}]\".format(min_document_ratings_test, max_document_ratings_test))\n",
    "print()\n",
    "\n",
    "for i in range(1,6):\n",
    "    print(\"Solution {}:\".format(i))\n",
    "    print()\n",
    "    res = results[i]\n",
    "    num_occs, min_docs, num_docs, _, thresh = res\n",
    "    print(\"\\tThreshold: {}\\n\\tOccupations: {}\\n\\tDocuments in corpus {}\\n\\tMinimum docs/occupation: {}\\n\\n\".format(thresh, num_occs, num_docs, min_docs))"
   ]
  },
  {
   "cell_type": "code",
   "execution_count": 15,
   "metadata": {},
   "outputs": [
    {
     "data": {
      "image/png": "[encoded data removed]",
      "text/plain": [
       "<Figure size 432x288 with 1 Axes>"
      ]
     },
     "metadata": {
      "needs_background": "light"
     },
     "output_type": "display_data"
    }
   ],
   "source": [
    "log_doc_counts = np.log(doc_counts)\n",
    "\n",
    "plt.title(\"Corpus size (logged) X minimum docs per rating per occupation\\n\\n\")\n",
    "plt.plot(thresholds, log_doc_counts)\n",
    "plt.xlabel(\"Min. docs\")\n",
    "plt.ylabel(\"Corpus size (logged)\")\n",
    "plt.show()"
   ]
  },
  {
   "cell_type": "code",
   "execution_count": 16,
   "metadata": {},
   "outputs": [
    {
     "data": {
      "image/png": "[encoded data removed]",
      "text/plain": [
       "<Figure size 432x288 with 1 Axes>"
      ]
     },
     "metadata": {
      "needs_background": "light"
     },
     "output_type": "display_data"
    }
   ],
   "source": [
    "plt.plot(thresholds, total_occs)\n",
    "plt.title(\"Tradeoff between number of occupations and minimum documents per rating per occupation\\n\\n\")\n",
    "plt.xlabel(\"Threshold\")\n",
    "plt.ylabel(\"Occupations in Corpus\")\n",
    "plt.show()"
   ]
  },
  {
   "cell_type": "code",
   "execution_count": 17,
   "metadata": {},
   "outputs": [],
   "source": [
    "threshold = 2000\n",
    "\n",
    "occupations_final = sorted([key for key, value in occ_rating_counts.items() if not any(count < threshold for count in value.values())])"
   ]
  },
  {
   "cell_type": "code",
   "execution_count": 18,
   "metadata": {},
   "outputs": [
    {
     "data": {
      "text/plain": [
       "50"
      ]
     },
     "execution_count": 18,
     "metadata": {},
     "output_type": "execute_result"
    }
   ],
   "source": [
    "len(occupations_final)"
   ]
  },
  {
   "cell_type": "code",
   "execution_count": 19,
   "metadata": {},
   "outputs": [],
   "source": [
    "# writing a list of the selected occupation to disk\n",
    "\n",
    "outfile = \"final_occupation_list.txt\"\n",
    "with open(outfile, \"w\") as writer:\n",
    "    for i, occ in enumerate(occupations_final, start=1):\n",
    "        writer.write(\"{}\\n\".format(occ))"
   ]
  },
  {
   "cell_type": "markdown",
   "metadata": {},
   "source": [
    "## Creating corpus"
   ]
  },
  {
   "cell_type": "code",
   "execution_count": 20,
   "metadata": {},
   "outputs": [
    {
     "name": "stdout",
     "output_type": "stream",
     "text": [
      "academic counselor\n",
      "account executive\n",
      "accounting\n",
      "administrative\n",
      "analyst\n",
      "beauty\n",
      "branch manager\n",
      "business analyst\n",
      "claims\n",
      "client services\n",
      "corporate account manager\n",
      "customer service\n",
      "designer\n",
      "driver\n",
      "editor\n",
      "engineer\n",
      "field sales manager\n",
      "finance specialist\n",
      "food services\n",
      "front desk\n",
      "hr specialist\n",
      "it\n",
      "management consulting\n",
      "marketing manager\n",
      "medical technician\n",
      "merchandiser\n",
      "nursing\n",
      "operations\n",
      "other\n",
      "patient care technician\n",
      "police & security officers\n",
      "program coordinator\n",
      "project manager\n",
      "quality assurance\n",
      "recruiter\n",
      "researcher\n",
      "retail representative\n",
      "sales representative\n",
      "server\n",
      "skilled labor\n",
      "software engineer\n",
      "stock clerk\n",
      "store manager\n",
      "systems administrator\n",
      "systems technician\n",
      "teacher\n",
      "technical support\n",
      "teller\n",
      "underwriter\n",
      "unskilled labor\n",
      "\n",
      "50\n"
     ]
    }
   ],
   "source": [
    "# reading in the list of selected occupations from disk\n",
    "\n",
    "occupations_final = open(\"final_occupation_list.txt\", \"r\").read().strip()\n",
    "print(occupations_final)\n",
    "\n",
    "occupations_final = occupations_final.split(\"\\n\")\n",
    "print()\n",
    "print(len(occupations_final))"
   ]
  },
  {
   "cell_type": "code",
   "execution_count": 21,
   "metadata": {},
   "outputs": [],
   "source": [
    "minimum_words = 10\n",
    "deviation = 1.2 # allow occupations to exceed minimum by a factor of this value to increase corpus size\n",
    "                # e.g., if the minimum contribution to the corpus from an occupation is 100, others may contribute\n",
    "                # up to 100*deviation documents, risking overrepresenting some occupations but increasing the \n",
    "                # corpus size\n",
    "\n",
    "min_docs_per_rating = 2000 # based on analysis above"
   ]
  },
  {
   "cell_type": "code",
   "execution_count": 22,
   "metadata": {},
   "outputs": [],
   "source": [
    "# pull out reviews I'll use, based on the above considerations\n",
    "\n",
    "# note: with a minimum_words of 10, rejects any reviews with fewer than 5 words in the pros or cons sections;\n",
    "# at least 5 in each and at least 10 total\n",
    "\n",
    "data = []\n",
    "\n",
    "reader = init_reader(infile)\n",
    "\n",
    "for doc in reader:\n",
    "    occ = doc[\"MGOC\"]\n",
    "    if occ in occupations_final:\n",
    "        pros_len = len(doc[\"pros\"].split()) >= minimum_words/2\n",
    "        cons_len = len(doc[\"cons\"].split()) >= minimum_words/2\n",
    "        has_rating = doc[\"OverallRating\"] != \"\"\n",
    "        if not any(requirement == False for requirement in [pros_len, cons_len, has_rating]):\n",
    "            rating = doc[\"OverallRating\"]\n",
    "            text = doc[\"text\"].split()\n",
    "            row = [occ, rating, text]\n",
    "            data.append(row)"
   ]
  },
  {
   "cell_type": "code",
   "execution_count": 23,
   "metadata": {},
   "outputs": [],
   "source": [
    "# finally create the dataframe\n",
    "\n",
    "df = pd.DataFrame(data, columns=[\"occupation\", \"rating\", \"text\"])\n",
    "del data\n",
    "\n",
    "outfile = \"occupations_df.json\"\n",
    "df.to_json(outfile)"
   ]
  },
  {
   "cell_type": "code",
   "execution_count": 3,
   "metadata": {},
   "outputs": [],
   "source": [
    "# backup an early version in case I change stuff below\n",
    "\n",
    "df = pd.read_json(\"occupations_df.json\")"
   ]
  },
  {
   "cell_type": "code",
   "execution_count": 27,
   "metadata": {},
   "outputs": [],
   "source": [
    "df[\"wordcount\"] = [len(t) for t in df[\"text\"].values]"
   ]
  },
  {
   "cell_type": "code",
   "execution_count": 28,
   "metadata": {},
   "outputs": [],
   "source": [
    "# filtering out reviews with fewer than the minimum number of words overall in the text (pros + cons)\n",
    "\n",
    "df = df[df[\"wordcount\"]>=minimum_words]"
   ]
  },
  {
   "cell_type": "code",
   "execution_count": 29,
   "metadata": {},
   "outputs": [
    {
     "data": {
      "text/html": [
       "<div>\n",
       "<style scoped>\n",
       "    .dataframe tbody tr th:only-of-type {\n",
       "        vertical-align: middle;\n",
       "    }\n",
       "\n",
       "    .dataframe tbody tr th {\n",
       "        vertical-align: top;\n",
       "    }\n",
       "\n",
       "    .dataframe thead th {\n",
       "        text-align: right;\n",
       "    }\n",
       "</style>\n",
       "<table border=\"1\" class=\"dataframe\">\n",
       "  <thead>\n",
       "    <tr style=\"text-align: right;\">\n",
       "      <th></th>\n",
       "      <th>rating</th>\n",
       "      <th>text</th>\n",
       "      <th>wordcount</th>\n",
       "    </tr>\n",
       "    <tr>\n",
       "      <th>occupation</th>\n",
       "      <th></th>\n",
       "      <th></th>\n",
       "      <th></th>\n",
       "    </tr>\n",
       "  </thead>\n",
       "  <tbody>\n",
       "    <tr>\n",
       "      <th>academic counselor</th>\n",
       "      <td>16629</td>\n",
       "      <td>16629</td>\n",
       "      <td>16629</td>\n",
       "    </tr>\n",
       "    <tr>\n",
       "      <th>account executive</th>\n",
       "      <td>32631</td>\n",
       "      <td>32631</td>\n",
       "      <td>32631</td>\n",
       "    </tr>\n",
       "    <tr>\n",
       "      <th>accounting</th>\n",
       "      <td>27288</td>\n",
       "      <td>27288</td>\n",
       "      <td>27288</td>\n",
       "    </tr>\n",
       "    <tr>\n",
       "      <th>administrative</th>\n",
       "      <td>42531</td>\n",
       "      <td>42531</td>\n",
       "      <td>42531</td>\n",
       "    </tr>\n",
       "    <tr>\n",
       "      <th>analyst</th>\n",
       "      <td>48754</td>\n",
       "      <td>48754</td>\n",
       "      <td>48754</td>\n",
       "    </tr>\n",
       "    <tr>\n",
       "      <th>beauty</th>\n",
       "      <td>15289</td>\n",
       "      <td>15289</td>\n",
       "      <td>15289</td>\n",
       "    </tr>\n",
       "    <tr>\n",
       "      <th>branch manager</th>\n",
       "      <td>238903</td>\n",
       "      <td>238903</td>\n",
       "      <td>238903</td>\n",
       "    </tr>\n",
       "    <tr>\n",
       "      <th>business analyst</th>\n",
       "      <td>20187</td>\n",
       "      <td>20187</td>\n",
       "      <td>20187</td>\n",
       "    </tr>\n",
       "    <tr>\n",
       "      <th>claims</th>\n",
       "      <td>13830</td>\n",
       "      <td>13830</td>\n",
       "      <td>13830</td>\n",
       "    </tr>\n",
       "    <tr>\n",
       "      <th>client services</th>\n",
       "      <td>15670</td>\n",
       "      <td>15670</td>\n",
       "      <td>15670</td>\n",
       "    </tr>\n",
       "    <tr>\n",
       "      <th>corporate account manager</th>\n",
       "      <td>39753</td>\n",
       "      <td>39753</td>\n",
       "      <td>39753</td>\n",
       "    </tr>\n",
       "    <tr>\n",
       "      <th>customer service</th>\n",
       "      <td>99010</td>\n",
       "      <td>99010</td>\n",
       "      <td>99010</td>\n",
       "    </tr>\n",
       "    <tr>\n",
       "      <th>designer</th>\n",
       "      <td>17300</td>\n",
       "      <td>17300</td>\n",
       "      <td>17300</td>\n",
       "    </tr>\n",
       "    <tr>\n",
       "      <th>driver</th>\n",
       "      <td>35093</td>\n",
       "      <td>35093</td>\n",
       "      <td>35093</td>\n",
       "    </tr>\n",
       "    <tr>\n",
       "      <th>editor</th>\n",
       "      <td>18358</td>\n",
       "      <td>18358</td>\n",
       "      <td>18358</td>\n",
       "    </tr>\n",
       "    <tr>\n",
       "      <th>engineer</th>\n",
       "      <td>59089</td>\n",
       "      <td>59089</td>\n",
       "      <td>59089</td>\n",
       "    </tr>\n",
       "    <tr>\n",
       "      <th>field sales manager</th>\n",
       "      <td>34837</td>\n",
       "      <td>34837</td>\n",
       "      <td>34837</td>\n",
       "    </tr>\n",
       "    <tr>\n",
       "      <th>finance specialist</th>\n",
       "      <td>33932</td>\n",
       "      <td>33932</td>\n",
       "      <td>33932</td>\n",
       "    </tr>\n",
       "    <tr>\n",
       "      <th>food services</th>\n",
       "      <td>35193</td>\n",
       "      <td>35193</td>\n",
       "      <td>35193</td>\n",
       "    </tr>\n",
       "    <tr>\n",
       "      <th>front desk</th>\n",
       "      <td>21536</td>\n",
       "      <td>21536</td>\n",
       "      <td>21536</td>\n",
       "    </tr>\n",
       "    <tr>\n",
       "      <th>hr specialist</th>\n",
       "      <td>26740</td>\n",
       "      <td>26740</td>\n",
       "      <td>26740</td>\n",
       "    </tr>\n",
       "    <tr>\n",
       "      <th>it</th>\n",
       "      <td>25569</td>\n",
       "      <td>25569</td>\n",
       "      <td>25569</td>\n",
       "    </tr>\n",
       "    <tr>\n",
       "      <th>management consulting</th>\n",
       "      <td>42481</td>\n",
       "      <td>42481</td>\n",
       "      <td>42481</td>\n",
       "    </tr>\n",
       "    <tr>\n",
       "      <th>marketing manager</th>\n",
       "      <td>61347</td>\n",
       "      <td>61347</td>\n",
       "      <td>61347</td>\n",
       "    </tr>\n",
       "    <tr>\n",
       "      <th>medical technician</th>\n",
       "      <td>17321</td>\n",
       "      <td>17321</td>\n",
       "      <td>17321</td>\n",
       "    </tr>\n",
       "    <tr>\n",
       "      <th>merchandiser</th>\n",
       "      <td>12832</td>\n",
       "      <td>12832</td>\n",
       "      <td>12832</td>\n",
       "    </tr>\n",
       "    <tr>\n",
       "      <th>nursing</th>\n",
       "      <td>39640</td>\n",
       "      <td>39640</td>\n",
       "      <td>39640</td>\n",
       "    </tr>\n",
       "    <tr>\n",
       "      <th>operations</th>\n",
       "      <td>39440</td>\n",
       "      <td>39440</td>\n",
       "      <td>39440</td>\n",
       "    </tr>\n",
       "    <tr>\n",
       "      <th>other</th>\n",
       "      <td>42784</td>\n",
       "      <td>42784</td>\n",
       "      <td>42784</td>\n",
       "    </tr>\n",
       "    <tr>\n",
       "      <th>patient care technician</th>\n",
       "      <td>21496</td>\n",
       "      <td>21496</td>\n",
       "      <td>21496</td>\n",
       "    </tr>\n",
       "    <tr>\n",
       "      <th>police &amp; security officers</th>\n",
       "      <td>16666</td>\n",
       "      <td>16666</td>\n",
       "      <td>16666</td>\n",
       "    </tr>\n",
       "    <tr>\n",
       "      <th>program coordinator</th>\n",
       "      <td>15545</td>\n",
       "      <td>15545</td>\n",
       "      <td>15545</td>\n",
       "    </tr>\n",
       "    <tr>\n",
       "      <th>project manager</th>\n",
       "      <td>49087</td>\n",
       "      <td>49087</td>\n",
       "      <td>49087</td>\n",
       "    </tr>\n",
       "    <tr>\n",
       "      <th>quality assurance</th>\n",
       "      <td>20892</td>\n",
       "      <td>20892</td>\n",
       "      <td>20892</td>\n",
       "    </tr>\n",
       "    <tr>\n",
       "      <th>recruiter</th>\n",
       "      <td>30861</td>\n",
       "      <td>30861</td>\n",
       "      <td>30861</td>\n",
       "    </tr>\n",
       "    <tr>\n",
       "      <th>researcher</th>\n",
       "      <td>21712</td>\n",
       "      <td>21712</td>\n",
       "      <td>21712</td>\n",
       "    </tr>\n",
       "    <tr>\n",
       "      <th>retail representative</th>\n",
       "      <td>110772</td>\n",
       "      <td>110772</td>\n",
       "      <td>110772</td>\n",
       "    </tr>\n",
       "    <tr>\n",
       "      <th>sales representative</th>\n",
       "      <td>231473</td>\n",
       "      <td>231473</td>\n",
       "      <td>231473</td>\n",
       "    </tr>\n",
       "    <tr>\n",
       "      <th>server</th>\n",
       "      <td>47476</td>\n",
       "      <td>47476</td>\n",
       "      <td>47476</td>\n",
       "    </tr>\n",
       "    <tr>\n",
       "      <th>skilled labor</th>\n",
       "      <td>21217</td>\n",
       "      <td>21217</td>\n",
       "      <td>21217</td>\n",
       "    </tr>\n",
       "    <tr>\n",
       "      <th>software engineer</th>\n",
       "      <td>99535</td>\n",
       "      <td>99535</td>\n",
       "      <td>99535</td>\n",
       "    </tr>\n",
       "    <tr>\n",
       "      <th>stock clerk</th>\n",
       "      <td>21371</td>\n",
       "      <td>21371</td>\n",
       "      <td>21371</td>\n",
       "    </tr>\n",
       "    <tr>\n",
       "      <th>store manager</th>\n",
       "      <td>48775</td>\n",
       "      <td>48775</td>\n",
       "      <td>48775</td>\n",
       "    </tr>\n",
       "    <tr>\n",
       "      <th>systems administrator</th>\n",
       "      <td>25688</td>\n",
       "      <td>25688</td>\n",
       "      <td>25688</td>\n",
       "    </tr>\n",
       "    <tr>\n",
       "      <th>systems technician</th>\n",
       "      <td>32473</td>\n",
       "      <td>32473</td>\n",
       "      <td>32473</td>\n",
       "    </tr>\n",
       "    <tr>\n",
       "      <th>teacher</th>\n",
       "      <td>67625</td>\n",
       "      <td>67625</td>\n",
       "      <td>67625</td>\n",
       "    </tr>\n",
       "    <tr>\n",
       "      <th>technical support</th>\n",
       "      <td>17320</td>\n",
       "      <td>17320</td>\n",
       "      <td>17320</td>\n",
       "    </tr>\n",
       "    <tr>\n",
       "      <th>teller</th>\n",
       "      <td>16485</td>\n",
       "      <td>16485</td>\n",
       "      <td>16485</td>\n",
       "    </tr>\n",
       "    <tr>\n",
       "      <th>underwriter</th>\n",
       "      <td>17688</td>\n",
       "      <td>17688</td>\n",
       "      <td>17688</td>\n",
       "    </tr>\n",
       "    <tr>\n",
       "      <th>unskilled labor</th>\n",
       "      <td>35798</td>\n",
       "      <td>35798</td>\n",
       "      <td>35798</td>\n",
       "    </tr>\n",
       "  </tbody>\n",
       "</table>\n",
       "</div>"
      ],
      "text/plain": [
       "                            rating    text  wordcount\n",
       "occupation                                           \n",
       "academic counselor           16629   16629      16629\n",
       "account executive            32631   32631      32631\n",
       "accounting                   27288   27288      27288\n",
       "administrative               42531   42531      42531\n",
       "analyst                      48754   48754      48754\n",
       "beauty                       15289   15289      15289\n",
       "branch manager              238903  238903     238903\n",
       "business analyst             20187   20187      20187\n",
       "claims                       13830   13830      13830\n",
       "client services              15670   15670      15670\n",
       "corporate account manager    39753   39753      39753\n",
       "customer service             99010   99010      99010\n",
       "designer                     17300   17300      17300\n",
       "driver                       35093   35093      35093\n",
       "editor                       18358   18358      18358\n",
       "engineer                     59089   59089      59089\n",
       "field sales manager          34837   34837      34837\n",
       "finance specialist           33932   33932      33932\n",
       "food services                35193   35193      35193\n",
       "front desk                   21536   21536      21536\n",
       "hr specialist                26740   26740      26740\n",
       "it                           25569   25569      25569\n",
       "management consulting        42481   42481      42481\n",
       "marketing manager            61347   61347      61347\n",
       "medical technician           17321   17321      17321\n",
       "merchandiser                 12832   12832      12832\n",
       "nursing                      39640   39640      39640\n",
       "operations                   39440   39440      39440\n",
       "other                        42784   42784      42784\n",
       "patient care technician      21496   21496      21496\n",
       "police & security officers   16666   16666      16666\n",
       "program coordinator          15545   15545      15545\n",
       "project manager              49087   49087      49087\n",
       "quality assurance            20892   20892      20892\n",
       "recruiter                    30861   30861      30861\n",
       "researcher                   21712   21712      21712\n",
       "retail representative       110772  110772     110772\n",
       "sales representative        231473  231473     231473\n",
       "server                       47476   47476      47476\n",
       "skilled labor                21217   21217      21217\n",
       "software engineer            99535   99535      99535\n",
       "stock clerk                  21371   21371      21371\n",
       "store manager                48775   48775      48775\n",
       "systems administrator        25688   25688      25688\n",
       "systems technician           32473   32473      32473\n",
       "teacher                      67625   67625      67625\n",
       "technical support            17320   17320      17320\n",
       "teller                       16485   16485      16485\n",
       "underwriter                  17688   17688      17688\n",
       "unskilled labor              35798   35798      35798"
      ]
     },
     "execution_count": 29,
     "metadata": {},
     "output_type": "execute_result"
    }
   ],
   "source": [
    "# quick sense of counts of remaining occupations--looked at histograms a thousand times already\n",
    "\n",
    "df.groupby([\"occupation\"]).count()"
   ]
  },
  {
   "cell_type": "code",
   "execution_count": 30,
   "metadata": {},
   "outputs": [
    {
     "data": {
      "text/plain": [
       "occupation\n",
       "academic counselor             1224506\n",
       "account executive              2834389\n",
       "accounting                     1557254\n",
       "administrative                 2371406\n",
       "analyst                        3145659\n",
       "beauty                         1101807\n",
       "branch manager                15644551\n",
       "business analyst               1267384\n",
       "claims                          953444\n",
       "client services                1081495\n",
       "corporate account manager      3199090\n",
       "customer service               6874522\n",
       "designer                       1343185\n",
       "driver                         2223581\n",
       "editor                         1510635\n",
       "engineer                       4094602\n",
       "field sales manager            2385328\n",
       "finance specialist             2201240\n",
       "food services                  1861233\n",
       "front desk                     1263606\n",
       "hr specialist                  1637982\n",
       "it                             1718150\n",
       "management consulting          3230163\n",
       "marketing manager              4725078\n",
       "medical technician              994108\n",
       "merchandiser                    833701\n",
       "nursing                        2161732\n",
       "operations                     2390732\n",
       "other                          2620627\n",
       "patient care technician        1179334\n",
       "police & security officers      979450\n",
       "program coordinator            1026138\n",
       "project manager                3131364\n",
       "quality assurance              1215572\n",
       "recruiter                      2545177\n",
       "researcher                     1409457\n",
       "retail representative          6818748\n",
       "sales representative          16108709\n",
       "server                         2579187\n",
       "skilled labor                  1122562\n",
       "software engineer              7730025\n",
       "stock clerk                    1245904\n",
       "store manager                  3324717\n",
       "systems administrator          1731226\n",
       "systems technician             2013811\n",
       "teacher                        4279940\n",
       "technical support              1287323\n",
       "teller                          910032\n",
       "underwriter                    1191857\n",
       "unskilled labor                2019703\n",
       "Name: wordcount, dtype: int64"
      ]
     },
     "execution_count": 30,
     "metadata": {},
     "output_type": "execute_result"
    }
   ],
   "source": [
    "# total number of words per occupation\n",
    "\n",
    "df.groupby([\"occupation\"])[\"wordcount\"].sum()"
   ]
  },
  {
   "cell_type": "code",
   "execution_count": 31,
   "metadata": {},
   "outputs": [
    {
     "data": {
      "text/html": [
       "<div>\n",
       "<style scoped>\n",
       "    .dataframe tbody tr th:only-of-type {\n",
       "        vertical-align: middle;\n",
       "    }\n",
       "\n",
       "    .dataframe tbody tr th {\n",
       "        vertical-align: top;\n",
       "    }\n",
       "\n",
       "    .dataframe thead th {\n",
       "        text-align: right;\n",
       "    }\n",
       "</style>\n",
       "<table border=\"1\" class=\"dataframe\">\n",
       "  <thead>\n",
       "    <tr style=\"text-align: right;\">\n",
       "      <th></th>\n",
       "      <th>occupation</th>\n",
       "      <th>rating</th>\n",
       "      <th>text</th>\n",
       "      <th>wordcount</th>\n",
       "    </tr>\n",
       "  </thead>\n",
       "  <tbody>\n",
       "    <tr>\n",
       "      <th>0</th>\n",
       "      <td>branch manager</td>\n",
       "      <td>5.0</td>\n",
       "      <td>[Excellent, benefits, Autonomy, Adaptable, and...</td>\n",
       "      <td>106</td>\n",
       "    </tr>\n",
       "    <tr>\n",
       "      <th>1</th>\n",
       "      <td>field sales manager</td>\n",
       "      <td>5.0</td>\n",
       "      <td>[We, had, great, support, from, team, members,...</td>\n",
       "      <td>18</td>\n",
       "    </tr>\n",
       "    <tr>\n",
       "      <th>2</th>\n",
       "      <td>beauty</td>\n",
       "      <td>4.0</td>\n",
       "      <td>[Very, talented, team, and, it's, easy, to, be...</td>\n",
       "      <td>32</td>\n",
       "    </tr>\n",
       "    <tr>\n",
       "      <th>3</th>\n",
       "      <td>account executive</td>\n",
       "      <td>4.0</td>\n",
       "      <td>[Excellent, culture, driven, by, consistent, c...</td>\n",
       "      <td>161</td>\n",
       "    </tr>\n",
       "    <tr>\n",
       "      <th>4</th>\n",
       "      <td>branch manager</td>\n",
       "      <td>1.0</td>\n",
       "      <td>[Sunday's, off, and, pay..thats, all, Horrible...</td>\n",
       "      <td>17</td>\n",
       "    </tr>\n",
       "    <tr>\n",
       "      <th>...</th>\n",
       "      <td>...</td>\n",
       "      <td>...</td>\n",
       "      <td>...</td>\n",
       "      <td>...</td>\n",
       "    </tr>\n",
       "    <tr>\n",
       "      <th>2143917</th>\n",
       "      <td>branch manager</td>\n",
       "      <td>2.0</td>\n",
       "      <td>[large, company,, good, benefits,, sufficient,...</td>\n",
       "      <td>16</td>\n",
       "    </tr>\n",
       "    <tr>\n",
       "      <th>2143918</th>\n",
       "      <td>sales representative</td>\n",
       "      <td>5.0</td>\n",
       "      <td>[They, really, take, care, of, their, employee...</td>\n",
       "      <td>40</td>\n",
       "    </tr>\n",
       "    <tr>\n",
       "      <th>2143919</th>\n",
       "      <td>retail representative</td>\n",
       "      <td>1.0</td>\n",
       "      <td>[-, Great, health, benefits, -, Nice, coworker...</td>\n",
       "      <td>520</td>\n",
       "    </tr>\n",
       "    <tr>\n",
       "      <th>2143920</th>\n",
       "      <td>designer</td>\n",
       "      <td>4.0</td>\n",
       "      <td>[Nice, &amp;amp;, interesting, coworkers,, kind, d...</td>\n",
       "      <td>82</td>\n",
       "    </tr>\n",
       "    <tr>\n",
       "      <th>2143921</th>\n",
       "      <td>stock clerk</td>\n",
       "      <td>3.0</td>\n",
       "      <td>[Part, time, and, works, around, your, time, O...</td>\n",
       "      <td>12</td>\n",
       "    </tr>\n",
       "  </tbody>\n",
       "</table>\n",
       "<p>2143922 rows × 4 columns</p>\n",
       "</div>"
      ],
      "text/plain": [
       "                    occupation rating  \\\n",
       "0               branch manager    5.0   \n",
       "1          field sales manager    5.0   \n",
       "2                       beauty    4.0   \n",
       "3            account executive    4.0   \n",
       "4               branch manager    1.0   \n",
       "...                        ...    ...   \n",
       "2143917         branch manager    2.0   \n",
       "2143918   sales representative    5.0   \n",
       "2143919  retail representative    1.0   \n",
       "2143920               designer    4.0   \n",
       "2143921            stock clerk    3.0   \n",
       "\n",
       "                                                      text  wordcount  \n",
       "0        [Excellent, benefits, Autonomy, Adaptable, and...        106  \n",
       "1        [We, had, great, support, from, team, members,...         18  \n",
       "2        [Very, talented, team, and, it's, easy, to, be...         32  \n",
       "3        [Excellent, culture, driven, by, consistent, c...        161  \n",
       "4        [Sunday's, off, and, pay..thats, all, Horrible...         17  \n",
       "...                                                    ...        ...  \n",
       "2143917  [large, company,, good, benefits,, sufficient,...         16  \n",
       "2143918  [They, really, take, care, of, their, employee...         40  \n",
       "2143919  [-, Great, health, benefits, -, Nice, coworker...        520  \n",
       "2143920  [Nice, &amp;, interesting, coworkers,, kind, d...         82  \n",
       "2143921  [Part, time, and, works, around, your, time, O...         12  \n",
       "\n",
       "[2143922 rows x 4 columns]"
      ]
     },
     "execution_count": 31,
     "metadata": {},
     "output_type": "execute_result"
    }
   ],
   "source": [
    "df"
   ]
  },
  {
   "cell_type": "code",
   "execution_count": 33,
   "metadata": {},
   "outputs": [],
   "source": [
    "np.random.seed(9982) # from random.org; integer in range [1,10000]"
   ]
  },
  {
   "cell_type": "code",
   "execution_count": 34,
   "metadata": {},
   "outputs": [
    {
     "name": "stdout",
     "output_type": "stream",
     "text": [
      "Finished sample for occupation academic counselor\n",
      "Finished sample for occupation account executive\n",
      "Finished sample for occupation accounting\n",
      "Finished sample for occupation administrative\n",
      "Finished sample for occupation analyst\n",
      "Finished sample for occupation beauty\n",
      "Finished sample for occupation branch manager\n",
      "Finished sample for occupation business analyst\n",
      "Finished sample for occupation claims\n",
      "Finished sample for occupation client services\n",
      "Finished sample for occupation corporate account manager\n",
      "Finished sample for occupation customer service\n",
      "Finished sample for occupation designer\n",
      "Finished sample for occupation driver\n",
      "Finished sample for occupation editor\n",
      "Finished sample for occupation engineer\n",
      "Finished sample for occupation field sales manager\n",
      "Finished sample for occupation finance specialist\n",
      "Finished sample for occupation food services\n",
      "Finished sample for occupation front desk\n",
      "Finished sample for occupation hr specialist\n",
      "Finished sample for occupation it\n",
      "Finished sample for occupation management consulting\n",
      "Finished sample for occupation marketing manager\n",
      "Finished sample for occupation medical technician\n",
      "Finished sample for occupation merchandiser\n",
      "Finished sample for occupation nursing\n",
      "Finished sample for occupation operations\n",
      "Finished sample for occupation other\n",
      "Finished sample for occupation patient care technician\n",
      "Finished sample for occupation police & security officers\n",
      "Finished sample for occupation program coordinator\n",
      "Finished sample for occupation project manager\n",
      "Finished sample for occupation quality assurance\n",
      "Finished sample for occupation recruiter\n",
      "Finished sample for occupation researcher\n",
      "Finished sample for occupation retail representative\n",
      "Finished sample for occupation sales representative\n",
      "Finished sample for occupation server\n",
      "Finished sample for occupation skilled labor\n",
      "Finished sample for occupation software engineer\n",
      "Finished sample for occupation stock clerk\n",
      "Finished sample for occupation store manager\n",
      "Finished sample for occupation systems administrator\n",
      "Finished sample for occupation systems technician\n",
      "Finished sample for occupation teacher\n",
      "Finished sample for occupation technical support\n",
      "Finished sample for occupation teller\n",
      "Finished sample for occupation underwriter\n",
      "Finished sample for occupation unskilled labor\n"
     ]
    }
   ],
   "source": [
    "# maybe the more opaque part of this notebook:\n",
    "# Subsets the dataframe for each occupation.\n",
    "# From there, subsets a dataframe for each rating (1-star to 5-star).\n",
    "# From there, selects AT MOST \"limit\" reviews for that occupation X rating combination, where\n",
    "# \"limit\" is the minimum number of documents * the maximum \"deviation\" (factor limiting how many \"extra\" reviews\n",
    "# can come from an occupation X rating combination, risking overrepresenting some groups but making\n",
    "# the corpus larger)\n",
    "\n",
    "corpus = []\n",
    "\n",
    "ratings = sorted(set(df[\"rating\"].values))\n",
    "\n",
    "for occupation in occupations_final:\n",
    "    occ_df = df[df[\"occupation\"]==occupation]\n",
    "    for rating in ratings: #[\"1.0\", \"2.0\", \"3.0\", \"4.0\", \"5.0\"]:\n",
    "        occ_rat_df = occ_df[occ_df[\"rating\"]==rating]\n",
    "        num_rows = occ_rat_df.shape[0]\n",
    "        limit = min_docs_per_rating*deviation\n",
    "        num_rows = min(num_rows, limit)\n",
    "        while num_rows > limit:\n",
    "            num_rows -= 1\n",
    "        sample = np.random.choice(occ_rat_df[\"text\"], size=int(num_rows), replace=False)\n",
    "        assert len(sample) == num_rows\n",
    "        sample = list(zip([occupation]*int(num_rows), [rating]*int(num_rows), sample))\n",
    "        assert len(sample) == num_rows\n",
    "        corpus += sample\n",
    "    print(\"Finished sample for occupation {}\".format(occupation))"
   ]
  },
  {
   "cell_type": "code",
   "execution_count": 35,
   "metadata": {},
   "outputs": [
    {
     "data": {
      "text/plain": [
       "596984"
      ]
     },
     "execution_count": 35,
     "metadata": {},
     "output_type": "execute_result"
    }
   ],
   "source": [
    "len(corpus)"
   ]
  },
  {
   "cell_type": "code",
   "execution_count": 36,
   "metadata": {},
   "outputs": [
    {
     "name": "stdout",
     "output_type": "stream",
     "text": [
      "('academic counselor', '5.0', ['The', 'opportunity', 'to', 'help', 'people', 'in', 'the', 'pursuit', 'of', 'lifelong', 'goals', 'and', 'achievements', 'was', 'extremely', 'rewarding.', 'Everyday', 'you', 'make', 'a', 'few', 'hundred', 'phone', 'calls,', 'but', 'get', 'a', 'chance', 'to', 'build', 'lasting', 'relationships', 'with', 'people', 'who', 'are', 'soon', 'to', 'forget', 'fear', 'and', 'embrace', 'confidence', 'as', 'they', 'move', 'on', 'to', 'reach', 'a', 'goal', 'that', 'may', 'have', 'seemed', 'far,', 'far', 'away', 'at', 'one', 'point', 'in', 'their', 'lives.', 'Ashford', 'University', 'and', 'its', 'parent', 'company', 'Bridgepoint', 'Education', 'also', 'gives', 'its', 'employees', 'a', 'tuition', 'remission', 'program', 'where', 'an', 'employee', 'can', 'finish', 'an', 'undergraduate', 'degree,', \"master's\", 'degree,', 'or', 'even', 'a', 'doctoral', 'degree.', 'The', 'hardest', 'part', 'of', 'this', 'job', 'for', 'me', 'was', 'sitting/standing', 'at', 'a', 'desk', 'all', 'day.', 'Living', 'in', 'San', 'Diego', 'where', 'the', 'sun', 'shines', '90%', 'of', 'the', 'year,', 'being', 'chained', 'to', 'a', 'desk', 'for', '8', 'hrs+', 'can', 'become', 'very', 'difficult.', 'Being', 'told', 'the', 'position', 'is', 'not', 'a', 'sales', 'job', 'just', 'did', 'not', 'feel', 'right.', 'I', 'understand', 'the', 'position', 'is', 'regulated', 'by', 'the', 'Dept.', 'of', 'Education,', 'but', 'in', 'reality', 'it', 'is', 'a', 'consultative', 'sales', 'position.', 'Seems', 'to', 'interfere', 'with', 'integrity.'])\n"
     ]
    }
   ],
   "source": [
    "# example\n",
    "\n",
    "print(corpus[10000])"
   ]
  },
  {
   "cell_type": "code",
   "execution_count": 37,
   "metadata": {},
   "outputs": [
    {
     "name": "stdout",
     "output_type": "stream",
     "text": [
      "('stock clerk', '5.0', [\"It's\", 'a', 'great', 'place', 'to', 'work', 'for', 'college', 'kids.', 'If', 'you', 'want', 'a', 'career', 'get', 'ready', 'for', 'a', 'lot', 'of', 'long', 'hours.', 'Depends', 'on', 'the', 'management', 'your', 'experience', 'can', 'be', 'good', 'or', 'really', 'bad.'])\n"
     ]
    }
   ],
   "source": [
    "# another example\n",
    "\n",
    "print(corpus[500000])"
   ]
  },
  {
   "cell_type": "markdown",
   "metadata": {},
   "source": [
    "## Minimal preprocessing"
   ]
  },
  {
   "cell_type": "code",
   "execution_count": 38,
   "metadata": {},
   "outputs": [],
   "source": [
    "# minimal preprocessing in batches to take advantage of multiprocessing + not running the same code on every\n",
    "# individual review\n",
    "\n",
    "batch_size = 1000\n",
    "\n",
    "batches = make_batches(corpus, batch_size)"
   ]
  },
  {
   "cell_type": "code",
   "execution_count": 39,
   "metadata": {},
   "outputs": [
    {
     "data": {
      "text/plain": [
       "597"
      ]
     },
     "execution_count": 39,
     "metadata": {},
     "output_type": "execute_result"
    }
   ],
   "source": [
    "len(batches)"
   ]
  },
  {
   "cell_type": "code",
   "execution_count": 40,
   "metadata": {},
   "outputs": [
    {
     "data": {
      "text/plain": [
       "{984, 1000}"
      ]
     },
     "execution_count": 40,
     "metadata": {},
     "output_type": "execute_result"
    }
   ],
   "source": [
    "set([len(b) for b in batches])"
   ]
  },
  {
   "cell_type": "code",
   "execution_count": 41,
   "metadata": {},
   "outputs": [],
   "source": [
    "# did the batches get divided up right?\n",
    "\n",
    "assert sum([len(b) for b in batches]) == len(corpus)"
   ]
  },
  {
   "cell_type": "code",
   "execution_count": null,
   "metadata": {
    "scrolled": true
   },
   "outputs": [],
   "source": [
    "# apply the minimal preprocessing to the documents in each batch, for all batches\n",
    "\n",
    "pool = mp.Pool(mp.cpu_count()-1)\n",
    "batches = pool.map(clean_batch, batches)\n",
    "pool.close()"
   ]
  },
  {
   "cell_type": "code",
   "execution_count": 28,
   "metadata": {},
   "outputs": [
    {
     "data": {
      "text/plain": [
       "597"
      ]
     },
     "execution_count": 28,
     "metadata": {},
     "output_type": "execute_result"
    }
   ],
   "source": [
    "# number of batches unchanged. good sign\n",
    "\n",
    "len(batches)"
   ]
  },
  {
   "cell_type": "code",
   "execution_count": 79,
   "metadata": {},
   "outputs": [],
   "source": [
    "# flattening this from a list of lists (batches) of reviews to a list of review\n",
    "\n",
    "preprocessed = [review for batch in batches for review in batch]"
   ]
  },
  {
   "cell_type": "code",
   "execution_count": 80,
   "metadata": {},
   "outputs": [
    {
     "data": {
      "text/plain": [
       "596984"
      ]
     },
     "execution_count": 80,
     "metadata": {},
     "output_type": "execute_result"
    }
   ],
   "source": [
    "# total number of reviews in preprocessed corpus\n",
    "\n",
    "len(preprocessed)"
   ]
  },
  {
   "cell_type": "code",
   "execution_count": 81,
   "metadata": {},
   "outputs": [],
   "source": [
    "# throwing out any reviews that shrank below 10 words\n",
    "\n",
    "preprocessed = [(review[0], review[1], review[2].strip()) for review in preprocessed if len(review[2].split()) >= 10]"
   ]
  },
  {
   "cell_type": "code",
   "execution_count": 82,
   "metadata": {},
   "outputs": [
    {
     "data": {
      "text/plain": [
       "596982"
      ]
     },
     "execution_count": 82,
     "metadata": {},
     "output_type": "execute_result"
    }
   ],
   "source": [
    "# only lost two reviews\n",
    "\n",
    "len(preprocessed)"
   ]
  },
  {
   "cell_type": "code",
   "execution_count": 90,
   "metadata": {},
   "outputs": [],
   "source": [
    "# extraneous checks\n",
    "\n",
    "occ_rating_count2 = defaultdict(lambda: defaultdict(lambda: 0))\n",
    "\n",
    "for review in preprocessed:\n",
    "    occ = review[0]\n",
    "    rating = review[1]\n",
    "    occ_rating_count2[occ][rating] += 1"
   ]
  },
  {
   "cell_type": "code",
   "execution_count": 87,
   "metadata": {},
   "outputs": [],
   "source": [
    "# occ_rating_count2[\"merchandiser\"].values()"
   ]
  },
  {
   "cell_type": "code",
   "execution_count": 91,
   "metadata": {},
   "outputs": [],
   "source": [
    "# extraneous checks\n",
    "\n",
    "rcounts = []\n",
    "\n",
    "for occ in occ_rating_count2.keys():\n",
    "    ratings_dict = occ_rating_count2[occ]\n",
    "    for count in ratings_dict.values():\n",
    "        rcounts.append(count)\n",
    "        if count < 2000:\n",
    "            print(occ)"
   ]
  },
  {
   "cell_type": "code",
   "execution_count": 88,
   "metadata": {},
   "outputs": [],
   "source": [
    "# set(rcounts)"
   ]
  },
  {
   "cell_type": "code",
   "execution_count": 89,
   "metadata": {},
   "outputs": [],
   "source": [
    "# Counter(rcounts)"
   ]
  },
  {
   "cell_type": "code",
   "execution_count": 92,
   "metadata": {},
   "outputs": [],
   "source": [
    "# putting the resulting corpus together as a dataframe\n",
    "\n",
    "corpus_df = pd.DataFrame(preprocessed, columns=[\"occupation\", \"rating\", \"text\"])"
   ]
  },
  {
   "cell_type": "code",
   "execution_count": 96,
   "metadata": {},
   "outputs": [
    {
     "data": {
      "text/html": [
       "<div>\n",
       "<style scoped>\n",
       "    .dataframe tbody tr th:only-of-type {\n",
       "        vertical-align: middle;\n",
       "    }\n",
       "\n",
       "    .dataframe tbody tr th {\n",
       "        vertical-align: top;\n",
       "    }\n",
       "\n",
       "    .dataframe thead th {\n",
       "        text-align: right;\n",
       "    }\n",
       "</style>\n",
       "<table border=\"1\" class=\"dataframe\">\n",
       "  <thead>\n",
       "    <tr style=\"text-align: right;\">\n",
       "      <th></th>\n",
       "      <th>occupation</th>\n",
       "      <th>rating</th>\n",
       "      <th>text</th>\n",
       "    </tr>\n",
       "  </thead>\n",
       "  <tbody>\n",
       "    <tr>\n",
       "      <th>0</th>\n",
       "      <td>academic counselor</td>\n",
       "      <td>1</td>\n",
       "      <td>I love the Medialle Students, they are sweet a...</td>\n",
       "    </tr>\n",
       "    <tr>\n",
       "      <th>1</th>\n",
       "      <td>academic counselor</td>\n",
       "      <td>1</td>\n",
       "      <td>Paid vacation time and built in holidays. Ther...</td>\n",
       "    </tr>\n",
       "    <tr>\n",
       "      <th>2</th>\n",
       "      <td>academic counselor</td>\n",
       "      <td>1</td>\n",
       "      <td>Coworkers are good people. The terms and paper...</td>\n",
       "    </tr>\n",
       "    <tr>\n",
       "      <th>3</th>\n",
       "      <td>academic counselor</td>\n",
       "      <td>1</td>\n",
       "      <td>They pay really well to treat you like garbage...</td>\n",
       "    </tr>\n",
       "    <tr>\n",
       "      <th>4</th>\n",
       "      <td>academic counselor</td>\n",
       "      <td>1</td>\n",
       "      <td>If you like for your calls to be recorded and ...</td>\n",
       "    </tr>\n",
       "    <tr>\n",
       "      <th>...</th>\n",
       "      <td>...</td>\n",
       "      <td>...</td>\n",
       "      <td>...</td>\n",
       "    </tr>\n",
       "    <tr>\n",
       "      <th>596977</th>\n",
       "      <td>unskilled labor</td>\n",
       "      <td>5</td>\n",
       "      <td>UPS is a great company to work for. I work at ...</td>\n",
       "    </tr>\n",
       "    <tr>\n",
       "      <th>596978</th>\n",
       "      <td>unskilled labor</td>\n",
       "      <td>5</td>\n",
       "      <td>You got to be trained in many departments. Dep...</td>\n",
       "    </tr>\n",
       "    <tr>\n",
       "      <th>596979</th>\n",
       "      <td>unskilled labor</td>\n",
       "      <td>5</td>\n",
       "      <td>Production work You can bank if you are a work...</td>\n",
       "    </tr>\n",
       "    <tr>\n",
       "      <th>596980</th>\n",
       "      <td>unskilled labor</td>\n",
       "      <td>5</td>\n",
       "      <td>Great environment decent pay with the ability ...</td>\n",
       "    </tr>\n",
       "    <tr>\n",
       "      <th>596981</th>\n",
       "      <td>unskilled labor</td>\n",
       "      <td>5</td>\n",
       "      <td>Good pay. Early morning hours. Nice people. Ha...</td>\n",
       "    </tr>\n",
       "  </tbody>\n",
       "</table>\n",
       "<p>596982 rows × 3 columns</p>\n",
       "</div>"
      ],
      "text/plain": [
       "                occupation  rating  \\\n",
       "0       academic counselor       1   \n",
       "1       academic counselor       1   \n",
       "2       academic counselor       1   \n",
       "3       academic counselor       1   \n",
       "4       academic counselor       1   \n",
       "...                    ...     ...   \n",
       "596977     unskilled labor       5   \n",
       "596978     unskilled labor       5   \n",
       "596979     unskilled labor       5   \n",
       "596980     unskilled labor       5   \n",
       "596981     unskilled labor       5   \n",
       "\n",
       "                                                     text  \n",
       "0       I love the Medialle Students, they are sweet a...  \n",
       "1       Paid vacation time and built in holidays. Ther...  \n",
       "2       Coworkers are good people. The terms and paper...  \n",
       "3       They pay really well to treat you like garbage...  \n",
       "4       If you like for your calls to be recorded and ...  \n",
       "...                                                   ...  \n",
       "596977  UPS is a great company to work for. I work at ...  \n",
       "596978  You got to be trained in many departments. Dep...  \n",
       "596979  Production work You can bank if you are a work...  \n",
       "596980  Great environment decent pay with the ability ...  \n",
       "596981  Good pay. Early morning hours. Nice people. Ha...  \n",
       "\n",
       "[596982 rows x 3 columns]"
      ]
     },
     "execution_count": 96,
     "metadata": {},
     "output_type": "execute_result"
    }
   ],
   "source": [
    "# here it is\n",
    "\n",
    "corpus_df"
   ]
  },
  {
   "cell_type": "code",
   "execution_count": 97,
   "metadata": {},
   "outputs": [],
   "source": [
    "# saving to disk before splitting into train, dev, and test set\n",
    "df[\"labels\"] = [label_dict[\"_\".join(occ.split())] for occ in df[\"occupation\"].values]\n",
    "corpus_df.to_json(\"cs230_corpus_final.json\")"
   ]
  },
  {
   "cell_type": "code",
   "execution_count": 13,
   "metadata": {},
   "outputs": [
    {
     "name": "stdout",
     "output_type": "stream",
     "text": [
      "Mean wordcount: 55.94707529462445\n",
      "Median wordcount: 45.0\n"
     ]
    }
   ],
   "source": [
    "# Mean and median in final corpus\n",
    "text = list(df[\"text\"].values)\n",
    "wordcounts = [len(t.split()) for t in text]\n",
    "print(\"Mean wordcount: {}\".format(np.mean(wordcounts)))\n",
    "print(\"Median wordcount: {}\".format(np.median(wordcounts)))"
   ]
  },
  {
   "cell_type": "markdown",
   "metadata": {},
   "source": [
    "# Splitting into train, dev, and test sets"
   ]
  },
  {
   "cell_type": "code",
   "execution_count": null,
   "metadata": {},
   "outputs": [],
   "source": [
    "# Data include 49 occupations (after excluding \"other\"), and reviews can have anywhere from one to five stars.\n",
    "# I wanted to balance the training and dev sets so no particular occupation (or occupation X rating combination) \n",
    "# was overrepresented. To do this, for each occupation X rating pair (e.g., 5-star reviews by software engineer),\n",
    "# I sampled 8,000 training examples and 2,000 dev examples, for a total of 392,000 train examples and 98,000\n",
    "# dev examples.\n",
    "# 49 occupations * five rating categories * 8,000 reviews = 392,000 train examples.\n",
    "# 49 occupations * five rating categories * 2,000 reviews = 98,000 dev examples.\n",
    "\n",
    "def return_balanced_subset(lab_df):\n",
    "    \"\"\"returns samples of reviews for each occupation\n",
    "    stratified by star-rating\"\"\"\n",
    "    trains_ = []\n",
    "    devs_ = []\n",
    "    lab_df = shuffle(lab_df)\n",
    "    for rating in ratings:\n",
    "        rat_df = lab_df[lab_df[\"rating\"]==rating]\n",
    "        rat_df = rat_df.sample(2000)\n",
    "        train_, dev_ = train_test_split(rat_df, test_size=0.2)\n",
    "        trains_.append(train_)\n",
    "        devs_.append(dev_)\n",
    "    trains_ = pd.concat(trains_, ignore_index=True)\n",
    "    devs_ = pd.concat(devs_, ignore_index=True)\n",
    "    assert trains_.shape[0] == 8000\n",
    "    assert devs_.shape[0] == 2000\n",
    "    return trains_, devs_\n",
    "\n",
    "\n",
    "df = pd.read_json(\"cs230_corpus_final.json\")\n",
    "df = df[df[\"occupation\"]!=\"other\"] # I thought the \"other\" category would add too much noise\n",
    "df[\"id\"] = np.random.randint(100000,999999,df.shape[0])\n",
    "\n",
    "classes = sorted(list(set(df[\"occupation\"].values)))\n",
    "label_dict = {}\n",
    "for i, cat in enumerate(classes):\n",
    "    label_dict[cat] = i\n",
    "df[\"labels\"] = [label_dict[occ] for occ in df[\"occupation\"].values]\n",
    "assert \"other\" not in label_dict.keys()\n",
    "\n",
    "ratings = sorted(list(set(df[\"rating\"].values)))\n",
    "\n",
    "train_lab_dfs = [] # append random samples of each occupation X rating combination for train set\n",
    "dev_lab_dfs = [] # append random samples of each occupation X rating combination for dev set\n",
    "\n",
    "for lab in label_dict.keys():\n",
    "    lab_df = df[df[\"occupation\"] == lab]\n",
    "    train_lab_df, dev_lab_df = return_balanced_subset(lab_df) # train and dev samples for each occupation-rating pair\n",
    "    train_lab_dfs.append(train_lab_df)\n",
    "    dev_lab_dfs.append(dev_lab_df)\n",
    "\n",
    "train_df = pd.concat(train_lab_dfs, ignore_index=True) # combine the stratified samples into the overall train set\n",
    "dev_df = pd.concat(dev_lab_dfs, ignore_index=True) # combine the stratified samples into the overall train set\n",
    "\n",
    "train_df.to_json(\"train_df_final.json\") # save the train set to disk\n",
    "dev_df.to_json(\"dev_df_final.json\") # save the dev set to disk"
   ]
  },
  {
   "cell_type": "code",
   "execution_count": null,
   "metadata": {},
   "outputs": [],
   "source": [
    "# I had previously assigned a random, six-digit ID number to each review. To create the test set, I first\n",
    "# merged the train and dev sets; I then created a list of all of the IDs in the train and dev sets.\n",
    "# To create the test set, I first took the subset of reviews whose IDs were NOT in the the list of taken IDs.\n",
    "# For the test set, I randomly sampled a total of 49,000 examples that did not overlap with the train or dev sets.\n",
    "# 49 occupations * five rating categories * 200 reviews = 49,000.\n",
    "\n",
    "train_dev = pd.concat([train_df, dev_df]) # a combination of the train and dev sets to get the IDs of reviews in use\n",
    "taken_ids = [id_ for id_ in train_dev[\"id\"].values] # the list of IDs of reviews in the train and dev sets\n",
    "df = df[~df[\"id\"].isin(taken_ids)] # get the subset of reviews that aren't in the train or dev sets (using ID)\n",
    "\n",
    "dfs_for_test = [] # previously-unused samples for each occupation-rating pair\n",
    "\n",
    "for lab in label_dict.values():\n",
    "    lab_df = df[df[\"labels\"]==lab]\n",
    "    for rating in ratings:\n",
    "        rat_df = lab_df[lab_df[\"rating\"]==rating]\n",
    "        if rat_df.shape[0] > 200:\n",
    "            rat_df = rat_df.sample(200)\n",
    "        dfs_for_test.append(rat_df)\n",
    "\n",
    "test_df = pd.concat(dfs_for_test) # combine the samples to create the test set (49,000 examples)\n",
    "test_df.to_json(\"test_df_final.json\")"
   ]
  }
 ],
 "metadata": {
  "kernelspec": {
   "display_name": "Python 3",
   "language": "python",
   "name": "python3"
  },
  "language_info": {
   "codemirror_mode": {
    "name": "ipython",
    "version": 3
   },
   "file_extension": ".py",
   "mimetype": "text/x-python",
   "name": "python",
   "nbconvert_exporter": "python",
   "pygments_lexer": "ipython3",
   "version": "3.8.3"
  }
 },
 "nbformat": 4,
 "nbformat_minor": 4
}
